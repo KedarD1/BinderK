{
 "cells": [
  {
   "cell_type": "markdown",
   "metadata": {
    "id": "cZEfIHvHoQ7I"
   },
   "source": [
    "**Roll No** : BECOC316\n",
    "\n",
    "**Name** : Kedar Damkondwar\n",
    "\n",
    "**Problem statement** :\n",
    "    Assignment on k-NN Classification:\n",
    "        In the following diagram let blue circles indicate positive examples and orange squares indicate negative examples. \n",
    "        We want to use k-NN algorithm for classifying the points. If k=3, find the class of the point (6,6). \n",
    "        Extend the same example for Distance-Weighted k-NN and Locally weighted Averaging"
   ]
  },
  {
   "cell_type": "code",
   "execution_count": 1,
   "metadata": {
    "id": "HBkh8eVroQ7Y"
   },
   "outputs": [],
   "source": [
    "import numpy as np\n",
    "import pandas as pd\n",
    "from sklearn.neighbors import KNeighborsClassifier\n",
    "from sklearn.metrics import accuracy_score,confusion_matrix\n",
    "from sklearn.model_selection import train_test_split"
   ]
  },
  {
   "cell_type": "code",
   "execution_count": 2,
   "metadata": {
    "id": "O2ChwPfKoQ7a"
   },
   "outputs": [],
   "source": [
    "X=[[2,4],[4,6],[4,4],[4,2],[6,4],[6,2]]"
   ]
  },
  {
   "cell_type": "code",
   "execution_count": 3,
   "metadata": {
    "id": "YxLe_KsQoQ7b"
   },
   "outputs": [],
   "source": [
    "y=['Negative','Negative','Positive','Negative','Negative','Positive']"
   ]
  },
  {
   "cell_type": "code",
   "execution_count": 4,
   "metadata": {
    "id": "Lvcm9yCKoQ7c"
   },
   "outputs": [],
   "source": [
    "knn=KNeighborsClassifier(n_neighbors=3)"
   ]
  },
  {
   "cell_type": "code",
   "execution_count": 5,
   "metadata": {
    "id": "9z07IrmqoQ7d",
    "outputId": "63f88a20-fb6c-4347-b2ab-ce15bb60d5ba"
   },
   "outputs": [
    {
     "data": {
      "text/plain": [
       "KNeighborsClassifier(n_neighbors=3)"
      ]
     },
     "execution_count": 5,
     "metadata": {},
     "output_type": "execute_result"
    }
   ],
   "source": [
    "knn.fit(X,y)"
   ]
  },
  {
   "cell_type": "code",
   "execution_count": 6,
   "metadata": {
    "id": "mKOL0VTJoQ7g"
   },
   "outputs": [],
   "source": [
    "new_data=[[6,6]]"
   ]
  },
  {
   "cell_type": "code",
   "execution_count": 7,
   "metadata": {
    "id": "7WUu_sT-oQ7h",
    "outputId": "75de0d7c-eeb4-4dbc-dca2-1cd1f144db41"
   },
   "outputs": [
    {
     "name": "stdout",
     "output_type": "stream",
     "text": [
      "General KNN for [6,6] ['Negative']\n"
     ]
    }
   ],
   "source": [
    "print(\"General KNN for [6,6]\",knn.predict(new_data))"
   ]
  },
  {
   "cell_type": "code",
   "execution_count": 8,
   "metadata": {
    "id": "U6eSsS9PoQ7i"
   },
   "outputs": [],
   "source": [
    "wknn=KNeighborsClassifier(n_neighbors=3,weights='distance')"
   ]
  },
  {
   "cell_type": "code",
   "execution_count": 9,
   "metadata": {
    "id": "IQk72xzQoQ7j",
    "outputId": "8c8a26c1-ae2a-46aa-857a-517b4601ea52"
   },
   "outputs": [
    {
     "data": {
      "text/plain": [
       "KNeighborsClassifier(n_neighbors=3, weights='distance')"
      ]
     },
     "execution_count": 9,
     "metadata": {},
     "output_type": "execute_result"
    }
   ],
   "source": [
    "wknn.fit(X,y)"
   ]
  },
  {
   "cell_type": "code",
   "execution_count": 10,
   "metadata": {
    "id": "_lSo1eHzoQ7k",
    "outputId": "968e1dab-43b9-4f10-e0d7-409609814658"
   },
   "outputs": [
    {
     "name": "stdout",
     "output_type": "stream",
     "text": [
      "Weighted KNN for [6,6] ['Negative']\n"
     ]
    }
   ],
   "source": [
    "print(\"Weighted KNN for [6,6]\",wknn.predict(new_data))"
   ]
  },
  {
   "cell_type": "code",
   "execution_count": 11,
   "metadata": {
    "id": "YxxMqNoXoQ7l",
    "outputId": "e2e6be8f-fa9c-4581-d34e-13719916207a"
   },
   "outputs": [
    {
     "name": "stdout",
     "output_type": "stream",
     "text": [
      "General KNN for all data ['Negative' 'Negative' 'Negative' 'Positive' 'Positive' 'Negative']\n"
     ]
    }
   ],
   "source": [
    "ypred_1=knn.predict(X)\n",
    "print(\"General KNN for all data\",ypred_1)"
   ]
  },
  {
   "cell_type": "code",
   "execution_count": 12,
   "metadata": {
    "id": "VQnHfzxEoQ7l",
    "outputId": "2d9dda9d-e5ef-4a54-c35d-cfbe55479418"
   },
   "outputs": [
    {
     "name": "stdout",
     "output_type": "stream",
     "text": [
      "Weighted KNN for all data ['Negative' 'Negative' 'Positive' 'Negative' 'Negative' 'Positive']\n"
     ]
    }
   ],
   "source": [
    "ypred_2=wknn.predict(X)\n",
    "print(\"Weighted KNN for all data\",ypred_2)"
   ]
  },
  {
   "cell_type": "code",
   "execution_count": 13,
   "metadata": {
    "id": "l_LlSi3VoQ7m",
    "outputId": "de4a3572-3a43-4c9f-ce1c-104ed20d0159"
   },
   "outputs": [
    {
     "name": "stdout",
     "output_type": "stream",
     "text": [
      "Actual ['Negative', 'Negative', 'Positive', 'Negative', 'Negative', 'Positive']\n"
     ]
    }
   ],
   "source": [
    "print(\"Actual\",y)"
   ]
  },
  {
   "cell_type": "code",
   "execution_count": 14,
   "metadata": {
    "id": "xEC8VIOhoQ7n",
    "outputId": "1a119703-3436-42bf-b286-62a16e947205"
   },
   "outputs": [
    {
     "name": "stdout",
     "output_type": "stream",
     "text": [
      "Accuracy of General KNN 0.3333333333333333\n"
     ]
    }
   ],
   "source": [
    "print(\"Accuracy of General KNN\",str(accuracy_score(y,ypred_1)))"
   ]
  },
  {
   "cell_type": "code",
   "execution_count": 15,
   "metadata": {
    "id": "CYhu_tmuoQ7o",
    "outputId": "2bf54532-d581-45f2-ad82-aaa926135314"
   },
   "outputs": [
    {
     "name": "stdout",
     "output_type": "stream",
     "text": [
      "Accuracy of Weighted KNN 1.0\n"
     ]
    }
   ],
   "source": [
    "print(\"Accuracy of Weighted KNN\",str(accuracy_score(y,ypred_2)))"
   ]
  },
  {
   "cell_type": "code",
   "execution_count": 16,
   "metadata": {
    "id": "oUQJnMtpoQ7p",
    "outputId": "fdd80e54-6c59-40e8-caa8-f78071b4f50c"
   },
   "outputs": [
    {
     "name": "stdout",
     "output_type": "stream",
     "text": [
      "Confusion matrix of General KNN [[2 2]\n",
      " [2 0]]\n"
     ]
    }
   ],
   "source": [
    "print(\"Confusion matrix of General KNN\",confusion_matrix(y,ypred_1))"
   ]
  },
  {
   "cell_type": "code",
   "execution_count": 17,
   "metadata": {
    "id": "3rfJ1JecoQ7q",
    "outputId": "43af22f9-298a-4717-8021-9563812e6e77"
   },
   "outputs": [
    {
     "name": "stdout",
     "output_type": "stream",
     "text": [
      "Confusion matrix of Weighted KNN [[4 0]\n",
      " [0 2]]\n"
     ]
    }
   ],
   "source": [
    "print(\"Confusion matrix of Weighted KNN\",confusion_matrix(y,ypred_2))"
   ]
  },
  {
   "cell_type": "code",
   "execution_count": 18,
   "metadata": {
    "id": "wd_nyQuUoQ7q",
    "outputId": "eee17785-d0e4-40fd-cf95-23bd9d3fd8ec"
   },
   "outputs": [
    {
     "name": "stdout",
     "output_type": "stream",
     "text": [
      "['Negative' 'Negative' 'Negative' 'Positive' 'Positive' 'Positive']\n",
      "['Negative', 'Negative', 'Positive', 'Negative', 'Negative', 'Positive']\n"
     ]
    }
   ],
   "source": [
    "from sklearn.neighbors import NearestCentroid\n",
    "clf=NearestCentroid()\n",
    "clf.fit(X,y)\n",
    "clf.centroids_\n",
    "ypred_3=clf.predict(X)\n",
    "print(ypred_3)\n",
    "print(y)"
   ]
  },
  {
   "cell_type": "code",
   "execution_count": 19,
   "metadata": {
    "id": "SmrkfPm-oQ7r",
    "outputId": "0780d5ab-3262-4ef4-d148-3879a6ecd592"
   },
   "outputs": [
    {
     "name": "stdout",
     "output_type": "stream",
     "text": [
      "0.5\n"
     ]
    }
   ],
   "source": [
    "print(accuracy_score(y,ypred_3))"
   ]
  },
  {
   "cell_type": "code",
   "execution_count": 20,
   "metadata": {
    "id": "j_WDppq7oQ7s",
    "outputId": "682625cc-b1b7-4996-dc21-561bd0f91d90"
   },
   "outputs": [
    {
     "name": "stdout",
     "output_type": "stream",
     "text": [
      "[[2 2]\n",
      " [1 1]]\n"
     ]
    }
   ],
   "source": [
    "print(confusion_matrix(y,ypred_3))"
   ]
  },
  {
   "cell_type": "code",
   "execution_count": 21,
   "metadata": {
    "id": "lIM-dE3qoQ7s",
    "outputId": "0fd3cc58-1430-40fa-f947-716c7f1cd83f"
   },
   "outputs": [
    {
     "name": "stdout",
     "output_type": "stream",
     "text": [
      "['Negative']\n"
     ]
    }
   ],
   "source": [
    "print(clf.predict(new_data))"
   ]
  },
  {
   "cell_type": "code",
   "execution_count": null,
   "metadata": {
    "id": "F9rXXHbIoQ70"
   },
   "outputs": [],
   "source": []
  }
 ],
 "metadata": {
  "colab": {
   "name": "KNN_ML.ipynb",
   "provenance": []
  },
  "kernelspec": {
   "display_name": "Python 3",
   "language": "python",
   "name": "python3"
  },
  "language_info": {
   "codemirror_mode": {
    "name": "ipython",
    "version": 3
   },
   "file_extension": ".py",
   "mimetype": "text/x-python",
   "name": "python",
   "nbconvert_exporter": "python",
   "pygments_lexer": "ipython3",
   "version": "3.6.11"
  }
 },
 "nbformat": 4,
 "nbformat_minor": 1
}
